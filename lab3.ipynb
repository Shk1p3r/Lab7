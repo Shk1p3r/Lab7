{
 "cells": [
  {
   "cell_type": "markdown",
   "id": "251ec779",
   "metadata": {},
   "source": [
    "Задание 5\n",
    "1. Считать данные из файла и вывести последние 20 его строк (метод tail()). \n",
    "2. Проверить наличие пропусков в файле. Если пропуски найдены, то заменить их на среднее значение по заданному признаку (столбцу). \n",
    "3. Вычислить количество мужчин и женщин старше 20 лет. И для каждого пола определить суммарные траты (столбец Annual Income). \n",
    "4. Оценить корреляцию Пирсона для столбцов Age и Genre (преобразовать данные столбца Genre в числовые значения). \n",
    "5. Сохранить в новый файл (output.csv) данные по покупателям, у которых Annual Income >100. \n",
    "6. Для данных о покупателях построить диаграмму рассеивания зависимости трат от возраста (по десятилетиям). \n",
    "7. Построить столбчатую диаграмму по распределению возрастов (по интервалу 5 лет). \n"
   ]
  },
  {
   "cell_type": "code",
   "execution_count": 44,
   "id": "f00ef5fb",
   "metadata": {},
   "outputs": [],
   "source": [
    "import numpy as np\n",
    "import pandas as pd\n",
    "import matplotlib.pyplot as plt\n",
    "from mpl_toolkits.mplot3d import Axes3D\n",
    "from matplotlib import cm\n",
    "import matplotlib.ticker as ticker\n",
    "import matplotlib.image as image\n",
    "table = pd.read_csv('Mall_Customers.csv', sep=',', index_col='CustomerID')"
   ]
  },
  {
   "cell_type": "markdown",
   "id": "02417eab",
   "metadata": {},
   "source": [
    "Пункт 1"
   ]
  },
  {
   "cell_type": "code",
   "execution_count": 45,
   "id": "179f1c20",
   "metadata": {
    "scrolled": false
   },
   "outputs": [
    {
     "data": {
      "text/html": [
       "<div>\n",
       "<style scoped>\n",
       "    .dataframe tbody tr th:only-of-type {\n",
       "        vertical-align: middle;\n",
       "    }\n",
       "\n",
       "    .dataframe tbody tr th {\n",
       "        vertical-align: top;\n",
       "    }\n",
       "\n",
       "    .dataframe thead th {\n",
       "        text-align: right;\n",
       "    }\n",
       "</style>\n",
       "<table border=\"1\" class=\"dataframe\">\n",
       "  <thead>\n",
       "    <tr style=\"text-align: right;\">\n",
       "      <th></th>\n",
       "      <th>Genre</th>\n",
       "      <th>Age</th>\n",
       "      <th>Annual Income (k$)</th>\n",
       "      <th>Spending Score (1-100)</th>\n",
       "    </tr>\n",
       "    <tr>\n",
       "      <th>CustomerID</th>\n",
       "      <th></th>\n",
       "      <th></th>\n",
       "      <th></th>\n",
       "      <th></th>\n",
       "    </tr>\n",
       "  </thead>\n",
       "  <tbody>\n",
       "    <tr>\n",
       "      <th>181</th>\n",
       "      <td>Female</td>\n",
       "      <td>37.0</td>\n",
       "      <td>97.0</td>\n",
       "      <td>32.0</td>\n",
       "    </tr>\n",
       "    <tr>\n",
       "      <th>182</th>\n",
       "      <td>Female</td>\n",
       "      <td>32.0</td>\n",
       "      <td>97.0</td>\n",
       "      <td>86.0</td>\n",
       "    </tr>\n",
       "    <tr>\n",
       "      <th>183</th>\n",
       "      <td>Male</td>\n",
       "      <td>46.0</td>\n",
       "      <td>98.0</td>\n",
       "      <td>15.0</td>\n",
       "    </tr>\n",
       "    <tr>\n",
       "      <th>184</th>\n",
       "      <td>Female</td>\n",
       "      <td>29.0</td>\n",
       "      <td>98.0</td>\n",
       "      <td>88.0</td>\n",
       "    </tr>\n",
       "    <tr>\n",
       "      <th>185</th>\n",
       "      <td>Female</td>\n",
       "      <td>41.0</td>\n",
       "      <td>99.0</td>\n",
       "      <td>39.0</td>\n",
       "    </tr>\n",
       "    <tr>\n",
       "      <th>186</th>\n",
       "      <td>Male</td>\n",
       "      <td>30.0</td>\n",
       "      <td>99.0</td>\n",
       "      <td>97.0</td>\n",
       "    </tr>\n",
       "    <tr>\n",
       "      <th>187</th>\n",
       "      <td>Female</td>\n",
       "      <td>54.0</td>\n",
       "      <td>101.0</td>\n",
       "      <td>24.0</td>\n",
       "    </tr>\n",
       "    <tr>\n",
       "      <th>188</th>\n",
       "      <td>Male</td>\n",
       "      <td>28.0</td>\n",
       "      <td>101.0</td>\n",
       "      <td>68.0</td>\n",
       "    </tr>\n",
       "    <tr>\n",
       "      <th>189</th>\n",
       "      <td>Female</td>\n",
       "      <td>41.0</td>\n",
       "      <td>103.0</td>\n",
       "      <td>17.0</td>\n",
       "    </tr>\n",
       "    <tr>\n",
       "      <th>190</th>\n",
       "      <td>Female</td>\n",
       "      <td>36.0</td>\n",
       "      <td>103.0</td>\n",
       "      <td>85.0</td>\n",
       "    </tr>\n",
       "    <tr>\n",
       "      <th>191</th>\n",
       "      <td>Female</td>\n",
       "      <td>34.0</td>\n",
       "      <td>103.0</td>\n",
       "      <td>23.0</td>\n",
       "    </tr>\n",
       "    <tr>\n",
       "      <th>192</th>\n",
       "      <td>Female</td>\n",
       "      <td>32.0</td>\n",
       "      <td>103.0</td>\n",
       "      <td>69.0</td>\n",
       "    </tr>\n",
       "    <tr>\n",
       "      <th>193</th>\n",
       "      <td>Male</td>\n",
       "      <td>33.0</td>\n",
       "      <td>113.0</td>\n",
       "      <td>8.0</td>\n",
       "    </tr>\n",
       "    <tr>\n",
       "      <th>194</th>\n",
       "      <td>Female</td>\n",
       "      <td>38.0</td>\n",
       "      <td>113.0</td>\n",
       "      <td>91.0</td>\n",
       "    </tr>\n",
       "    <tr>\n",
       "      <th>195</th>\n",
       "      <td>Female</td>\n",
       "      <td>47.0</td>\n",
       "      <td>120.0</td>\n",
       "      <td>16.0</td>\n",
       "    </tr>\n",
       "    <tr>\n",
       "      <th>196</th>\n",
       "      <td>Female</td>\n",
       "      <td>35.0</td>\n",
       "      <td>120.0</td>\n",
       "      <td>79.0</td>\n",
       "    </tr>\n",
       "    <tr>\n",
       "      <th>197</th>\n",
       "      <td>Female</td>\n",
       "      <td>45.0</td>\n",
       "      <td>126.0</td>\n",
       "      <td>28.0</td>\n",
       "    </tr>\n",
       "    <tr>\n",
       "      <th>198</th>\n",
       "      <td>Male</td>\n",
       "      <td>32.0</td>\n",
       "      <td>126.0</td>\n",
       "      <td>74.0</td>\n",
       "    </tr>\n",
       "    <tr>\n",
       "      <th>199</th>\n",
       "      <td>Male</td>\n",
       "      <td>32.0</td>\n",
       "      <td>137.0</td>\n",
       "      <td>18.0</td>\n",
       "    </tr>\n",
       "    <tr>\n",
       "      <th>200</th>\n",
       "      <td>Male</td>\n",
       "      <td>30.0</td>\n",
       "      <td>137.0</td>\n",
       "      <td>83.0</td>\n",
       "    </tr>\n",
       "  </tbody>\n",
       "</table>\n",
       "</div>"
      ],
      "text/plain": [
       "             Genre   Age  Annual Income (k$)  Spending Score (1-100)\n",
       "CustomerID                                                          \n",
       "181         Female  37.0                97.0                    32.0\n",
       "182         Female  32.0                97.0                    86.0\n",
       "183           Male  46.0                98.0                    15.0\n",
       "184         Female  29.0                98.0                    88.0\n",
       "185         Female  41.0                99.0                    39.0\n",
       "186           Male  30.0                99.0                    97.0\n",
       "187         Female  54.0               101.0                    24.0\n",
       "188           Male  28.0               101.0                    68.0\n",
       "189         Female  41.0               103.0                    17.0\n",
       "190         Female  36.0               103.0                    85.0\n",
       "191         Female  34.0               103.0                    23.0\n",
       "192         Female  32.0               103.0                    69.0\n",
       "193           Male  33.0               113.0                     8.0\n",
       "194         Female  38.0               113.0                    91.0\n",
       "195         Female  47.0               120.0                    16.0\n",
       "196         Female  35.0               120.0                    79.0\n",
       "197         Female  45.0               126.0                    28.0\n",
       "198           Male  32.0               126.0                    74.0\n",
       "199           Male  32.0               137.0                    18.0\n",
       "200           Male  30.0               137.0                    83.0"
      ]
     },
     "execution_count": 45,
     "metadata": {},
     "output_type": "execute_result"
    }
   ],
   "source": [
    "table.tail(20)"
   ]
  },
  {
   "cell_type": "markdown",
   "id": "36ca47f6",
   "metadata": {},
   "source": [
    "Пункт 2"
   ]
  },
  {
   "cell_type": "code",
   "execution_count": 46,
   "id": "1e44a0e6",
   "metadata": {},
   "outputs": [
    {
     "data": {
      "text/plain": [
       "Genre                     199\n",
       "Age                       199\n",
       "Annual Income (k$)        199\n",
       "Spending Score (1-100)    199\n",
       "dtype: int64"
      ]
     },
     "execution_count": 46,
     "metadata": {},
     "output_type": "execute_result"
    }
   ],
   "source": [
    "table.count()"
   ]
  },
  {
   "cell_type": "code",
   "execution_count": 47,
   "id": "6d9a003a",
   "metadata": {},
   "outputs": [
    {
     "data": {
      "text/html": [
       "<div>\n",
       "<style scoped>\n",
       "    .dataframe tbody tr th:only-of-type {\n",
       "        vertical-align: middle;\n",
       "    }\n",
       "\n",
       "    .dataframe tbody tr th {\n",
       "        vertical-align: top;\n",
       "    }\n",
       "\n",
       "    .dataframe thead th {\n",
       "        text-align: right;\n",
       "    }\n",
       "</style>\n",
       "<table border=\"1\" class=\"dataframe\">\n",
       "  <thead>\n",
       "    <tr style=\"text-align: right;\">\n",
       "      <th></th>\n",
       "      <th>Genre</th>\n",
       "      <th>Age</th>\n",
       "      <th>Annual Income (k$)</th>\n",
       "      <th>Spending Score (1-100)</th>\n",
       "    </tr>\n",
       "    <tr>\n",
       "      <th>CustomerID</th>\n",
       "      <th></th>\n",
       "      <th></th>\n",
       "      <th></th>\n",
       "      <th></th>\n",
       "    </tr>\n",
       "  </thead>\n",
       "  <tbody>\n",
       "    <tr>\n",
       "      <th>1</th>\n",
       "      <td>Male</td>\n",
       "      <td>19.000000</td>\n",
       "      <td>15.000000</td>\n",
       "      <td>50.256281</td>\n",
       "    </tr>\n",
       "    <tr>\n",
       "      <th>2</th>\n",
       "      <td>NaN</td>\n",
       "      <td>21.000000</td>\n",
       "      <td>60.788945</td>\n",
       "      <td>81.000000</td>\n",
       "    </tr>\n",
       "    <tr>\n",
       "      <th>3</th>\n",
       "      <td>Female</td>\n",
       "      <td>38.944724</td>\n",
       "      <td>16.000000</td>\n",
       "      <td>6.000000</td>\n",
       "    </tr>\n",
       "    <tr>\n",
       "      <th>4</th>\n",
       "      <td>Female</td>\n",
       "      <td>23.000000</td>\n",
       "      <td>16.000000</td>\n",
       "      <td>77.000000</td>\n",
       "    </tr>\n",
       "    <tr>\n",
       "      <th>5</th>\n",
       "      <td>Female</td>\n",
       "      <td>31.000000</td>\n",
       "      <td>17.000000</td>\n",
       "      <td>40.000000</td>\n",
       "    </tr>\n",
       "    <tr>\n",
       "      <th>...</th>\n",
       "      <td>...</td>\n",
       "      <td>...</td>\n",
       "      <td>...</td>\n",
       "      <td>...</td>\n",
       "    </tr>\n",
       "    <tr>\n",
       "      <th>196</th>\n",
       "      <td>Female</td>\n",
       "      <td>35.000000</td>\n",
       "      <td>120.000000</td>\n",
       "      <td>79.000000</td>\n",
       "    </tr>\n",
       "    <tr>\n",
       "      <th>197</th>\n",
       "      <td>Female</td>\n",
       "      <td>45.000000</td>\n",
       "      <td>126.000000</td>\n",
       "      <td>28.000000</td>\n",
       "    </tr>\n",
       "    <tr>\n",
       "      <th>198</th>\n",
       "      <td>Male</td>\n",
       "      <td>32.000000</td>\n",
       "      <td>126.000000</td>\n",
       "      <td>74.000000</td>\n",
       "    </tr>\n",
       "    <tr>\n",
       "      <th>199</th>\n",
       "      <td>Male</td>\n",
       "      <td>32.000000</td>\n",
       "      <td>137.000000</td>\n",
       "      <td>18.000000</td>\n",
       "    </tr>\n",
       "    <tr>\n",
       "      <th>200</th>\n",
       "      <td>Male</td>\n",
       "      <td>30.000000</td>\n",
       "      <td>137.000000</td>\n",
       "      <td>83.000000</td>\n",
       "    </tr>\n",
       "  </tbody>\n",
       "</table>\n",
       "<p>200 rows × 4 columns</p>\n",
       "</div>"
      ],
      "text/plain": [
       "             Genre        Age  Annual Income (k$)  Spending Score (1-100)\n",
       "CustomerID                                                               \n",
       "1             Male  19.000000           15.000000               50.256281\n",
       "2              NaN  21.000000           60.788945               81.000000\n",
       "3           Female  38.944724           16.000000                6.000000\n",
       "4           Female  23.000000           16.000000               77.000000\n",
       "5           Female  31.000000           17.000000               40.000000\n",
       "...            ...        ...                 ...                     ...\n",
       "196         Female  35.000000          120.000000               79.000000\n",
       "197         Female  45.000000          126.000000               28.000000\n",
       "198           Male  32.000000          126.000000               74.000000\n",
       "199           Male  32.000000          137.000000               18.000000\n",
       "200           Male  30.000000          137.000000               83.000000\n",
       "\n",
       "[200 rows x 4 columns]"
      ]
     },
     "execution_count": 47,
     "metadata": {},
     "output_type": "execute_result"
    }
   ],
   "source": [
    "\n",
    "averageAge = table['Age'].mean()\n",
    "table['Age']=table['Age'].fillna(averageAge)\n",
    "\n",
    "averageIncome =  table['Annual Income (k$)'].mean()\n",
    "table['Annual Income (k$)']=table['Annual Income (k$)'].fillna(averageIncome)\n",
    "\n",
    "averageScore =  table['Spending Score (1-100)'].mean()\n",
    "table['Spending Score (1-100)']= table['Spending Score (1-100)'].fillna(averageScore)\n",
    "table\n",
    "\n"
   ]
  },
  {
   "cell_type": "markdown",
   "id": "2b367883",
   "metadata": {},
   "source": [
    "Пункт 3"
   ]
  },
  {
   "cell_type": "code",
   "execution_count": 13,
   "id": "62c064f4",
   "metadata": {},
   "outputs": [
    {
     "name": "stdout",
     "output_type": "stream",
     "text": [
      "Количество мужчин старше 20: 76\n",
      "Количество женщин старше 20: 107\n",
      "Количество мужчин и женщин старше 20: 183\n",
      "Доход всех мужчин старше 20: 4853.0\n",
      "Доход всех женщин старше 20: 6390.0\n"
     ]
    }
   ],
   "source": [
    "sumM = table.query('Genre == \"Male\" & Age>20').count()\n",
    "print(\"Количество мужчин старше 20:\", sumM[0])\n",
    "sumF = table.query('Genre == \"Female\" & Age>20').count()\n",
    "print(\"Количество женщин старше 20:\", sumF[0])\n",
    "sumMF = table.query('Age>20').count()\n",
    "print(\"Количество мужчин и женщин старше 20:\", sumMF[0])\n",
    "\n",
    "male = table.query('Genre == \"Male\"&Age>20')\n",
    "sumIncome = male['Annual Income (k$)'].sum()\n",
    "print(\"Доход всех мужчин старше 20:\", sumIncome)\n",
    "female = table.query('Genre == \"Female\" & Age>20')\n",
    "sumIncome1 = female['Annual Income (k$)'].sum()\n",
    "print(\"Доход всех женщин старше 20:\", sumIncome1)"
   ]
  },
  {
   "cell_type": "markdown",
   "id": "65defed3",
   "metadata": {},
   "source": [
    "Пункт 4"
   ]
  },
  {
   "cell_type": "code",
   "execution_count": 26,
   "id": "fd2b71f6",
   "metadata": {},
   "outputs": [
    {
     "name": "stdout",
     "output_type": "stream",
     "text": [
      "-0.05509552763295648\n"
     ]
    }
   ],
   "source": [
    "table_copy=table.copy()\n",
    "table_copy['Genre'] = table_copy['Genre']. replace ([\"Male\",\"Female\"], [1,2]).astype (int)\n",
    "x=table_copy['Age'].corr(table_copy['Genre'],method='pearson')\n",
    "print(x)"
   ]
  },
  {
   "cell_type": "markdown",
   "id": "7d0a644c",
   "metadata": {},
   "source": [
    "Пункт 5"
   ]
  },
  {
   "cell_type": "code",
   "execution_count": 15,
   "id": "13538646",
   "metadata": {},
   "outputs": [],
   "source": [
    "output=table.loc[(table['Annual Income (k$)']>100)]\n",
    "output.to_csv('output.csv')"
   ]
  },
  {
   "cell_type": "markdown",
   "id": "b1f6c4fe",
   "metadata": {},
   "source": [
    "Пункт 6"
   ]
  },
  {
   "cell_type": "code",
   "execution_count": 48,
   "id": "86f591b2",
   "metadata": {
    "scrolled": false
   },
   "outputs": [
    {
     "data": {
      "image/png": "[encoded data removed]",
      "text/plain": [
       "<Figure size 1000x1000 with 1 Axes>"
      ]
     },
     "metadata": {},
     "output_type": "display_data"
    }
   ],
   "source": [
    "fig, ax = plt.subplots(figsize=(10, 10))\n",
    "ax.xaxis.set_major_locator(ticker.MultipleLocator(10))\n",
    "ax.xaxis.set_minor_locator(ticker.MultipleLocator(1))\n",
    "\n",
    "ax.scatter(table['Age'], table['Annual Income (k$)']);"
   ]
  },
  {
   "cell_type": "markdown",
   "id": "49417986",
   "metadata": {},
   "source": [
    "Пункт 7"
   ]
  },
  {
   "cell_type": "code",
   "execution_count": 49,
   "id": "29ad8558",
   "metadata": {},
   "outputs": [
    {
     "data": {
      "image/png": "[encoded data removed]",
      "text/plain": [
       "<Figure size 1000x1000 with 1 Axes>"
      ]
     },
     "metadata": {},
     "output_type": "display_data"
    }
   ],
   "source": [
    "age = table['Age'].dropna().astype(int).value_counts().sort_index()\n",
    "\n",
    "fig, ax = plt.subplots(figsize=(10, 10))\n",
    "ax.xaxis.set_major_locator(ticker.MultipleLocator(5))\n",
    "ax.xaxis.set_minor_locator(ticker.MultipleLocator(1))\n",
    "\n",
    "ax.bar(age.index, age);"
   ]
  },
  {
   "cell_type": "code",
   "execution_count": null,
   "id": "f5551f42",
   "metadata": {},
   "outputs": [],
   "source": []
  },
  {
   "cell_type": "code",
   "execution_count": null,
   "id": "c2196b19",
   "metadata": {},
   "outputs": [],
   "source": []
  },
  {
   "cell_type": "code",
   "execution_count": null,
   "id": "0b335b78",
   "metadata": {},
   "outputs": [],
   "source": []
  }
 ],
 "metadata": {
  "kernelspec": {
   "display_name": "Python 3 (ipykernel)",
   "language": "python",
   "name": "python3"
  },
  "language_info": {
   "codemirror_mode": {
    "name": "ipython",
    "version": 3
   },
   "file_extension": ".py",
   "mimetype": "text/x-python",
   "name": "python",
   "nbconvert_exporter": "python",
   "pygments_lexer": "ipython3",
   "version": "3.9.13"
  }
 },
 "nbformat": 4,
 "nbformat_minor": 5
}
